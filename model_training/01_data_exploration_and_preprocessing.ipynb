{
 "cells": [
  {
   "cell_type": "code",
   "execution_count": 1,
   "metadata": {},
   "outputs": [],
   "source": [
    "import pandas as pd\n",
    "import numpy as np\n",
    "import librosa\n",
    "import librosa.display\n",
    "import matplotlib.pyplot as plt\n",
    "import os\n",
    "from tqdm.notebook import tqdm"
   ]
  },
  {
   "cell_type": "code",
   "execution_count": 2,
   "metadata": {},
   "outputs": [],
   "source": [
    "# --- Paths ---\n",
    "# This is the folder containing all your new .wav files\n",
    "RAW_DATA_DIR = 'data/murmur_dataset_v1' \n",
    "# Where we will save our new, clean spectrograms\n",
    "PROCESSED_DATA_DIR = 'processed_data'\n",
    "\n",
    "# --- Audio Settings ---\n",
    "TARGET_SR = 4000\n",
    "TARGET_DURATION = 5"
   ]
  },
  {
   "cell_type": "code",
   "execution_count": 3,
   "metadata": {},
   "outputs": [
    {
     "name": "stdout",
     "output_type": "stream",
     "text": [
      "Successfully parsed 464 audio files.\n",
      "\n",
      "Here's a sample of the rich metadata we extracted:\n",
      "                                    filepath disease_class patient_id  \\\n",
      "0  data/murmur_dataset_v1/MS_006_sit_Pul.wav            MS        006   \n",
      "1   data/murmur_dataset_v1/N_094_sit_Pul.wav             N        094   \n",
      "2   data/murmur_dataset_v1/N_098_sup_Tri.wav             N        098   \n",
      "3   data/murmur_dataset_v1/N_107_sup_Tri.wav             N        107   \n",
      "4   data/murmur_dataset_v1/N_089_sup_Aor.wav             N        089   \n",
      "\n",
      "  position area  \n",
      "0      sit  Pul  \n",
      "1      sit  Pul  \n",
      "2      sup  Tri  \n",
      "3      sup  Tri  \n",
      "4      sup  Aor  \n",
      "\n",
      "Distribution of Heart Conditions:\n",
      "disease_class\n",
      "N     168\n",
      "MS     88\n",
      "MR     88\n",
      "AS     64\n",
      "AR     56\n",
      "Name: count, dtype: int64\n"
     ]
    }
   ],
   "source": [
    "file_metadata = []\n",
    "\n",
    "# Loop through every file in our raw data directory\n",
    "for filename in os.listdir(RAW_DATA_DIR):\n",
    "    if filename.endswith('.wav'):\n",
    "        # Split the filename into its parts\n",
    "        parts = filename.replace('.wav', '').split('_')\n",
    "        \n",
    "        # Ensure the filename has the expected structure\n",
    "        if len(parts) == 4:\n",
    "            disease, patient_id, position, area = parts\n",
    "            file_path = os.path.join(RAW_DATA_DIR, filename)\n",
    "            \n",
    "            file_metadata.append({\n",
    "                'filepath': file_path,\n",
    "                'disease_class': disease,\n",
    "                'patient_id': patient_id,\n",
    "                'position': position,\n",
    "                'area': area\n",
    "            })\n",
    "\n",
    "# Create a rich DataFrame from our extracted metadata\n",
    "files_df = pd.DataFrame(file_metadata)\n",
    "\n",
    "print(f\"Successfully parsed {len(files_df)} audio files.\")\n",
    "print(\"\\nHere's a sample of the rich metadata we extracted:\")\n",
    "print(files_df.head())\n",
    "\n",
    "print(\"\\nDistribution of Heart Conditions:\")\n",
    "print(files_df['disease_class'].value_counts())"
   ]
  },
  {
   "cell_type": "code",
   "execution_count": 4,
   "metadata": {},
   "outputs": [
    {
     "name": "stdout",
     "output_type": "stream",
     "text": [
      "\n",
      "Starting preprocessing with Constant-Q Transform (CQT)...\n"
     ]
    },
    {
     "data": {
      "application/vnd.jupyter.widget-view+json": {
       "model_id": "19e510e90f314db3a7003bd9e22b37f2",
       "version_major": 2,
       "version_minor": 0
      },
      "text/plain": [
       "  0%|          | 0/464 [00:00<?, ?it/s]"
      ]
     },
     "metadata": {},
     "output_type": "display_data"
    },
    {
     "name": "stdout",
     "output_type": "stream",
     "text": [
      "\n",
      "Preprocessing complete!\n"
     ]
    }
   ],
   "source": [
    "# --- Define a new directory for our CQT data ---\n",
    "PROCESSED_DATA_DIR = 'processed_data_cqt'\n",
    "\n",
    "# Create the output directory if it doesn't exist\n",
    "os.makedirs(PROCESSED_DATA_DIR, exist_ok=True)\n",
    "\n",
    "print(\"\\nStarting preprocessing with Constant-Q Transform (CQT)...\")\n",
    "\n",
    "# Loop through our DataFrame\n",
    "for index, row in tqdm(files_df.iterrows(), total=files_df.shape[0]):\n",
    "    input_path = row['filepath']\n",
    "    label = row['disease_class']\n",
    "    \n",
    "    output_filename = f\"{label}-{row['patient_id']}-{row['position']}-{row['area']}.npy\"\n",
    "    output_path = os.path.join(PROCESSED_DATA_DIR, output_filename)\n",
    "    \n",
    "    try:\n",
    "        # 1. Load and Resample\n",
    "        audio, sr = librosa.load(input_path, sr=TARGET_SR, mono=True)\n",
    "        \n",
    "        # 2. Standardize Length\n",
    "        target_samples = TARGET_SR * TARGET_DURATION\n",
    "        if len(audio) > target_samples:\n",
    "            audio = audio[:target_samples]\n",
    "        else:\n",
    "            audio = np.pad(audio, (0, target_samples - len(audio)), 'constant')\n",
    "        \n",
    "        # --- SAFETY CHECK for silent audio ---\n",
    "        if np.max(np.abs(audio)) == 0:\n",
    "            print(f\"Skipping silent file: {input_path}\")\n",
    "            continue\n",
    "\n",
    "        # 3. --- THE FIX IS HERE ---\n",
    "        # Create the Constant-Q Transform with parameters that respect the Nyquist frequency.\n",
    "        # We set a realistic minimum frequency (fmin) and reduce the number of bins.\n",
    "        cqt = librosa.cqt(y=audio, sr=sr, \n",
    "                          fmin=librosa.note_to_hz('C1'), # Start at a low freq (~32 Hz)\n",
    "                          n_bins=60) # Use fewer bins to prevent exceeding Nyquist\n",
    "\n",
    "        cqt_db = librosa.amplitude_to_db(np.abs(cqt))\n",
    "\n",
    "        # 4. Normalize the CQT image\n",
    "        def normalize(S):\n",
    "            return (S - S.min()) / (S.max() - S.min() + 1e-6)\n",
    "\n",
    "        final_cqt = normalize(cqt_db)\n",
    "\n",
    "        # 5. Save the new CQT data\n",
    "        np.save(output_path, final_cqt)\n",
    "\n",
    "    except Exception as e:\n",
    "        # This will now only catch very unexpected errors\n",
    "        print(f\"A critical error occurred with file {input_path}: {e}\")\n",
    "\n",
    "print(\"\\nPreprocessing complete!\")"
   ]
  },
  {
   "cell_type": "code",
   "execution_count": 6,
   "metadata": {},
   "outputs": [
    {
     "name": "stdout",
     "output_type": "stream",
     "text": [
      "Successfully created 464 processed files.\n",
      "\n",
      "Shape of the processed CQT data: (60, 40)\n",
      "This means (Height, Width).\n"
     ]
    },
    {
     "data": {
      "image/png": "[encoded data removed]",
      "text/plain": [
       "<Figure size 1000x400 with 2 Axes>"
      ]
     },
     "metadata": {},
     "output_type": "display_data"
    }
   ],
   "source": [
    "# Get a list of the new files we created\n",
    "processed_files = os.listdir(PROCESSED_DATA_DIR)\n",
    "print(f\"Successfully created {len(processed_files)} processed files.\")\n",
    "\n",
    "# --- SAFETY CHECK ---\n",
    "if len(processed_files) > 0:\n",
    "    # Load one of the new files to see what it looks like\n",
    "    example_processed_file = np.load(os.path.join(PROCESSED_DATA_DIR, processed_files[0]))\n",
    "\n",
    "    print(f\"\\nShape of the processed CQT data: {example_processed_file.shape}\")\n",
    "    print(\"This means (Height, Width).\")\n",
    "\n",
    "    # --- THE FIX IS HERE ---\n",
    "    # Display the 2D CQT data directly. No need to index a 3rd dimension.\n",
    "    plt.figure(figsize=(10, 4))\n",
    "    librosa.display.specshow(example_processed_file,\n",
    "                             sr=TARGET_SR,\n",
    "                             x_axis='time',\n",
    "                             y_axis='cqt_hz') # Use 'cqt_hz' for a CQT plot\n",
    "    plt.colorbar(format='%+2.0f dB')\n",
    "    plt.title(f'Constant-Q Transform for {processed_files[0]}')\n",
    "    plt.tight_layout()\n",
    "    plt.show()\n",
    "else:\n",
    "    print(\"\\nNo files were processed. Please check the output of the cell above for errors.\")"
   ]
  }
 ],
 "metadata": {
  "kernelspec": {
   "display_name": "venv",
   "language": "python",
   "name": "python3"
  },
  "language_info": {
   "codemirror_mode": {
    "name": "ipython",
    "version": 3
   },
   "file_extension": ".py",
   "mimetype": "text/x-python",
   "name": "python",
   "nbconvert_exporter": "python",
   "pygments_lexer": "ipython3",
   "version": "3.12.9"
  }
 },
 "nbformat": 4,
 "nbformat_minor": 2
}
